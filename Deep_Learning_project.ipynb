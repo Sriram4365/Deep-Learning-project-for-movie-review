{
  "nbformat": 4,
  "nbformat_minor": 0,
  "metadata": {
    "colab": {
      "provenance": [],
      "authorship_tag": "ABX9TyPzMzq4krRwaQZCqDFRe/9R",
      "include_colab_link": true
    },
    "kernelspec": {
      "name": "python3",
      "display_name": "Python 3"
    },
    "language_info": {
      "name": "python"
    }
  },
  "cells": [
    {
      "cell_type": "markdown",
      "metadata": {
        "id": "view-in-github",
        "colab_type": "text"
      },
      "source": [
        "<a href=\"https://colab.research.google.com/github/Sriram4365/Deep-Learning-project-for-movie-review/blob/main/Deep_Learning_project.ipynb\" target=\"_parent\"><img src=\"https://colab.research.google.com/assets/colab-badge.svg\" alt=\"Open In Colab\"/></a>"
      ]
    },
    {
      "cell_type": "code",
      "execution_count": 1,
      "metadata": {
        "colab": {
          "base_uri": "https://localhost:8080/"
        },
        "id": "GzDsiBliyEy2",
        "outputId": "1e38f636-52b2-4631-dfc8-4a39972e339e"
      },
      "outputs": [
        {
          "output_type": "stream",
          "name": "stdout",
          "text": [
            "Downloading data from https://storage.googleapis.com/tensorflow/tf-keras-datasets/imdb.npz\n",
            "17464789/17464789 [==============================] - 0s 0us/step\n",
            "Epoch 1/5\n",
            "313/313 [==============================] - 146s 452ms/step - loss: 0.4380 - accuracy: 0.7926 - val_loss: 0.3448 - val_accuracy: 0.8630\n",
            "Epoch 2/5\n",
            "313/313 [==============================] - 140s 447ms/step - loss: 0.2347 - accuracy: 0.9105 - val_loss: 0.3140 - val_accuracy: 0.8714\n",
            "Epoch 3/5\n",
            "313/313 [==============================] - 138s 441ms/step - loss: 0.1630 - accuracy: 0.9423 - val_loss: 0.3788 - val_accuracy: 0.8754\n",
            "Epoch 4/5\n",
            "313/313 [==============================] - 136s 433ms/step - loss: 0.1161 - accuracy: 0.9614 - val_loss: 0.4180 - val_accuracy: 0.8626\n",
            "Epoch 5/5\n",
            "313/313 [==============================] - 138s 441ms/step - loss: 0.0897 - accuracy: 0.9696 - val_loss: 0.4732 - val_accuracy: 0.8154\n",
            "782/782 [==============================] - 51s 65ms/step - loss: 0.4838 - accuracy: 0.8128\n",
            "Test Loss: 0.4838\n",
            "Test Accuracy: 81.28%\n"
          ]
        }
      ],
      "source": [
        "import tensorflow as tf\n",
        "from tensorflow.keras.datasets import imdb\n",
        "from tensorflow.keras.preprocessing.sequence import pad_sequences\n",
        "from tensorflow.keras.models import Sequential\n",
        "from tensorflow.keras.layers import Embedding, LSTM, Dense, Dropout\n",
        "\n",
        "# Step 1: Load the IMDB dataset\n",
        "max_words = 10000\n",
        "(x_train, y_train), (x_test, y_test) = imdb.load_data(num_words=max_words)\n",
        "\n",
        "# Step 2: Preprocess the data\n",
        "sequence_length = 200\n",
        "x_train = pad_sequences(x_train, maxlen=sequence_length)\n",
        "x_test = pad_sequences(x_test, maxlen=sequence_length)\n",
        "\n",
        "# Step 3: Build the Neural Network\n",
        "model = Sequential()\n",
        "model.add(Embedding(input_dim=max_words, output_dim=128, input_length=sequence_length))\n",
        "model.add(LSTM(64, return_sequences=True))\n",
        "model.add(LSTM(64))\n",
        "model.add(Dropout(0.5))\n",
        "model.add(Dense(1, activation='sigmoid'))\n",
        "\n",
        "# Step 4: Compile the Model\n",
        "model.compile(loss='binary_crossentropy', optimizer='adam', metrics=['accuracy'])\n",
        "\n",
        "# Step 5: Train the Model\n",
        "epochs = 5\n",
        "batch_size = 64\n",
        "history = model.fit(x_train, y_train, epochs=epochs, batch_size=batch_size, validation_split=0.2)\n",
        "\n",
        "# Step 6: Evaluate the Model\n",
        "\n",
        "loss, accuracy = model.evaluate(x_test, y_test)\n",
        "print(f\"Test Loss: {loss:.4f}\")\n",
        "print(f\"Test Accuracy: {accuracy*100:.2f}%\")\n"
      ]
    }
  ]
}